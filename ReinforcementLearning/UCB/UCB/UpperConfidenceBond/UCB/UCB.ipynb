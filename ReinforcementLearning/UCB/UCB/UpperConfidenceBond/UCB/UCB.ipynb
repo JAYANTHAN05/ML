{
 "cells": [
  {
   "cell_type": "code",
   "execution_count": 2,
   "metadata": {},
   "outputs": [],
   "source": [
    "#importing the libraries\n",
    "import numpy as np\n",
    "import pandas as pd\n",
    "import matplotlib.pyplot as plt #to pot the histogram \n",
    "import math"
   ]
  },
  {
   "cell_type": "code",
   "execution_count": 3,
   "metadata": {},
   "outputs": [],
   "source": [
    "#importing the dataset\n",
    "dataset = pd.read_csv(\"Ads_CTR_Optimisation.csv\")"
   ]
  },
  {
   "cell_type": "code",
   "execution_count": 4,
   "metadata": {},
   "outputs": [],
   "source": [
    "N = 10000 # total no of user\n",
    "d= 10 # ten types of ads\n",
    "ads_selected= list()\n",
    "numbers_selected = [0]*d # we wanted to create a list of 10 zero \n",
    "sum_of_rewards=0 *d #we are calculating the total rewards initially it is zero\n",
    "total_rewards = 0 # initailly it is zero \n"
   ]
  },
  {
   "cell_type": "code",
   "execution_count": null,
   "metadata": {},
   "outputs": [],
   "source": [
    "#now we are going to put the whole dataset into iteration\n",
    "for n in range(0,N):\n",
    "    # the aim is to find the value which is the highest upper bound\n",
    "    ad=0\n",
    "    # now we are going to next iteration to iterate over the all the 10 ads by column by column\n",
    "    # for each iteration we gonna find the upper confidence bound\n",
    "    max_upper_bound= 0 # we need to find the maximum upper bound so i am creating this variable\n",
    "    #initially it is zero \n",
    "\n",
    "    for i in range (0,d):\n",
    "        #if the ads inde(i) will aldready had been selected\n",
    "        if numbers_selected[i] > 0:\n",
    "            #if it is true the we go to find the avg reward\n",
    "            average_reward = sum_of_rewards[i] / numbers_selected[i] # this is riBar(n)\n",
    "            # now we need to compute the delta i\n",
    "            delta_i = math.sqrt(3/2 * math.log(n+1) / numbers_selected[i]) # hear n+1 is for avoid the infinity error\n",
    "            # if we put n the the first iteration will be the 0 , Then the 0 is divided by any thing will be the zero\n",
    "            upper_bound = average_reward + delta_i\n"
   ]
  }
 ],
 "metadata": {
  "kernelspec": {
   "display_name": "Python 3",
   "language": "python",
   "name": "python3"
  },
  "language_info": {
   "codemirror_mode": {
    "name": "ipython",
    "version": 3
   },
   "file_extension": ".py",
   "mimetype": "text/x-python",
   "name": "python",
   "nbconvert_exporter": "python",
   "pygments_lexer": "ipython3",
   "version": "3.12.2"
  }
 },
 "nbformat": 4,
 "nbformat_minor": 2
}
